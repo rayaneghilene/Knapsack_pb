{
 "cells": [
  {
   "cell_type": "markdown",
   "metadata": {},
   "source": [
    "# Optimize a Neural Network with a genetic algorithm\n",
    "\n"
   ]
  },
  {
   "cell_type": "code",
   "execution_count": 20,
   "metadata": {},
   "outputs": [],
   "source": [
    "import numpy as np\n",
    "from sklearn.datasets import load_iris\n",
    "from sklearn.neural_network import MLPClassifier\n",
    "from sklearn.model_selection import train_test_split\n",
    "from sklearn.metrics import accuracy_score\n",
    "\n",
    "class GA_NeuralNet:\n",
    "    def __init__(self, pop_size=10, generations=10, mutation_rate=0.01, crossover_rate=0.7):\n",
    "        self.pop_size = pop_size\n",
    "        self.generations = generations\n",
    "        self.mutation_rate = mutation_rate\n",
    "        self.crossover_rate = crossover_rate\n",
    "        self.population = self.initialize_population()\n",
    "\n",
    "    def initialize_population(self):\n",
    "        population = []\n",
    "        for _ in range(self.pop_size):\n",
    "            individual = {\n",
    "                'hidden_layer_sizes': np.random.randint(10, 100),\n",
    "                'learning_rate_init': np.random.uniform(0.0001, 0.1),\n",
    "                'max_iter': np.random.randint(100, 1000)\n",
    "            }\n",
    "            population.append(individual)\n",
    "        return population\n",
    "\n",
    "    def fitness(self, individual, X_train, y_train, X_val, y_val):\n",
    "        model = MLPClassifier(hidden_layer_sizes=(individual['hidden_layer_sizes'],),\n",
    "                              learning_rate_init=individual['learning_rate_init'],\n",
    "                              max_iter=individual['max_iter'])\n",
    "        model.fit(X_train, y_train)\n",
    "        predictions = model.predict(X_val)\n",
    "        accuracy = accuracy_score(y_val, predictions)\n",
    "        return accuracy\n",
    "\n",
    "    def selection(self, fitnesses):\n",
    "        probabilities = fitnesses / np.sum(fitnesses)\n",
    "        selected_indices = np.random.choice(len(self.population), size=len(self.population), p=probabilities)\n",
    "        return [self.population[i] for i in selected_indices]\n",
    "\n",
    "    def crossover(self, parent1, parent2):\n",
    "        if np.random.rand() < self.crossover_rate:\n",
    "            child1 = {\n",
    "                'hidden_layer_sizes': parent1['hidden_layer_sizes'],\n",
    "                'learning_rate_init': parent2['learning_rate_init'],\n",
    "                'max_iter': parent1['max_iter']\n",
    "            }\n",
    "            child2 = {\n",
    "                'hidden_layer_sizes': parent2['hidden_layer_sizes'],\n",
    "                'learning_rate_init': parent1['learning_rate_init'],\n",
    "                'max_iter': parent2['max_iter']\n",
    "            }\n",
    "            return child1, child2\n",
    "        else:\n",
    "            return parent1, parent2\n",
    "\n",
    "    def mutate(self, individual):\n",
    "        if np.random.rand() < self.mutation_rate:\n",
    "            individual['hidden_layer_sizes'] = np.random.randint(10, 100)\n",
    "        if np.random.rand() < self.mutation_rate:\n",
    "            individual['learning_rate_init'] = np.random.uniform(0.0001, 0.1)\n",
    "        if np.random.rand() < self.mutation_rate:\n",
    "            individual['max_iter'] = np.random.randint(100, 1000)\n",
    "        return individual\n",
    "\n",
    "    def run(self, X_train, y_train, X_val, y_val):\n",
    "        best_solution = None\n",
    "        best_fitness = 0\n",
    "\n",
    "        for generation in range(self.generations):\n",
    "            fitnesses = np.array([self.fitness(ind, X_train, y_train, X_val, y_val) for ind in self.population])\n",
    "            new_population = self.selection(fitnesses)\n",
    "\n",
    "            for i in range(0, len(self.population), 2):\n",
    "                parent1, parent2 = new_population[i], new_population[i+1]\n",
    "                child1, child2 = self.crossover(parent1, parent2)\n",
    "                new_population[i], new_population[i+1] = self.mutate(child1), self.mutate(child2)\n",
    "\n",
    "            self.population = new_population\n",
    "            current_best = max(self.population, key=lambda ind: self.fitness(ind, X_train, y_train, X_val, y_val))\n",
    "            current_fitness = self.fitness(current_best, X_train, y_train, X_val, y_val)\n",
    "\n",
    "            if current_fitness > best_fitness:\n",
    "                best_solution, best_fitness = current_best, current_fitness\n",
    "\n",
    "            # print(f\"Generation {generation+1}: Best Fitness = {best_fitness}\")\n",
    "\n",
    "        return best_solution, best_fitness"
   ]
  },
  {
   "cell_type": "markdown",
   "metadata": {},
   "source": [
    "## Test"
   ]
  },
  {
   "cell_type": "code",
   "execution_count": 32,
   "metadata": {},
   "outputs": [
    {
     "name": "stdout",
     "output_type": "stream",
     "text": [
      "Run 1: Best Solution = {'hidden_layer_sizes': 85, 'learning_rate_init': 0.040590198398753385, 'max_iter': 612}\n",
      "Run 2: Best Solution = {'hidden_layer_sizes': 95, 'learning_rate_init': 0.013832377489114275, 'max_iter': 416}\n",
      "Run 3: Best Solution = {'hidden_layer_sizes': 89, 'learning_rate_init': 0.008443958286750054, 'max_iter': 903}\n",
      "Run 4: Best Solution = {'hidden_layer_sizes': 30, 'learning_rate_init': 0.02168128343341507, 'max_iter': 914}\n",
      "Run 5: Best Solution = {'hidden_layer_sizes': 57, 'learning_rate_init': 0.040824153167274835, 'max_iter': 635}\n",
      "Run 6: Best Solution = {'hidden_layer_sizes': 72, 'learning_rate_init': 0.05682821649721228, 'max_iter': 442}\n",
      "Run 7: Best Solution = {'hidden_layer_sizes': 26, 'learning_rate_init': 0.09001325596072808, 'max_iter': 809}\n",
      "Run 8: Best Solution = {'hidden_layer_sizes': 86, 'learning_rate_init': 0.06660495146313739, 'max_iter': 945}\n",
      "Run 9: Best Solution = {'hidden_layer_sizes': 64, 'learning_rate_init': 0.025022689300375198, 'max_iter': 222}\n",
      "Run 10: Best Solution = {'hidden_layer_sizes': 24, 'learning_rate_init': 0.06089614891019532, 'max_iter': 845}\n"
     ]
    }
   ],
   "source": [
    "import warnings\n",
    "warnings.filterwarnings('ignore')\n",
    "\n",
    "data = load_iris()\n",
    "X_train, X_val, y_train, y_val = train_test_split(data.data, data.target, test_size=0.2, random_state=42)\n",
    "\n",
    "def run_ga_neural_net(X_train, y_train, X_val, y_val):\n",
    "    ga_nn = GA_NeuralNet()\n",
    "    best_solution, best_fitness = ga_nn.run(X_train, y_train, X_val, y_val)\n",
    "    return best_solution, best_fitness\n",
    "\n",
    "num_runs = 10\n",
    "\n",
    "for i in range(num_runs):\n",
    "    best_solution, best_fitness = run_ga_neural_net(X_train, y_train, X_val, y_val)\n",
    "    print(f\"Run {i+1}: Best Solution = {best_solution}\")"
   ]
  }
 ],
 "metadata": {
  "kernelspec": {
   "display_name": "Ollama",
   "language": "python",
   "name": "python3"
  },
  "language_info": {
   "codemirror_mode": {
    "name": "ipython",
    "version": 3
   },
   "file_extension": ".py",
   "mimetype": "text/x-python",
   "name": "python",
   "nbconvert_exporter": "python",
   "pygments_lexer": "ipython3",
   "version": "3.9.6"
  }
 },
 "nbformat": 4,
 "nbformat_minor": 2
}
